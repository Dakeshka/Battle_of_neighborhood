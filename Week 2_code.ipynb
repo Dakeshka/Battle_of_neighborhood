{
 "cells": [
  {
   "cell_type": "markdown",
   "metadata": {},
   "source": [
    "# Prepare Data for analysis\n",
    "\n",
    "In this section, I will desctibe in details how to make calls to the Foursquare API for obtaining necessary information. It will show how to construct a URL to send a request to the API to search for a specific type of venues, to explore a particular venue, to explore a Foursquare user, to explore a geographical location, and to get reviews and tips for venues around a location. Also, I will use the visualization library, Folium, to visualize the results.\n",
    "\n",
    "\n",
    "### Import necessary Libraries\n"
   ]
  },
  {
   "cell_type": "code",
   "execution_count": 1,
   "metadata": {},
   "outputs": [
    {
     "name": "stdout",
     "output_type": "stream",
     "text": [
      "Solving environment: done\n",
      "\n",
      "## Package Plan ##\n",
      "\n",
      "  environment location: /home/jupyterlab/conda\n",
      "\n",
      "  added / updated specs: \n",
      "    - geopy\n",
      "\n",
      "\n",
      "The following packages will be downloaded:\n",
      "\n",
      "    package                    |            build\n",
      "    ---------------------------|-----------------\n",
      "    openssl-1.0.2p             |       h470a237_1         3.1 MB  conda-forge\n",
      "    certifi-2018.10.15         |        py36_1000         138 KB  conda-forge\n",
      "    geopy-1.17.0               |             py_0          49 KB  conda-forge\n",
      "    ca-certificates-2018.10.15 |       ha4d7672_0         135 KB  conda-forge\n",
      "    conda-4.5.11               |        py36_1000         651 KB  conda-forge\n",
      "    geographiclib-1.49         |             py_0          32 KB  conda-forge\n",
      "    ------------------------------------------------------------\n",
      "                                           Total:         4.1 MB\n",
      "\n",
      "The following NEW packages will be INSTALLED:\n",
      "\n",
      "    geographiclib:   1.49-py_0            conda-forge\n",
      "    geopy:           1.17.0-py_0          conda-forge\n",
      "\n",
      "The following packages will be UPDATED:\n",
      "\n",
      "    ca-certificates: 2018.8.24-ha4d7672_0 conda-forge --> 2018.10.15-ha4d7672_0 conda-forge\n",
      "    certifi:         2018.8.24-py36_1001  conda-forge --> 2018.10.15-py36_1000  conda-forge\n",
      "    conda:           4.5.11-py36_0        conda-forge --> 4.5.11-py36_1000      conda-forge\n",
      "    openssl:         1.0.2p-h470a237_0    conda-forge --> 1.0.2p-h470a237_1     conda-forge\n",
      "\n",
      "\n",
      "Downloading and Extracting Packages\n",
      "openssl-1.0.2p       | 3.1 MB    | ##################################### | 100% \n",
      "certifi-2018.10.15   | 138 KB    | ##################################### | 100% \n",
      "geopy-1.17.0         | 49 KB     | ##################################### | 100% \n",
      "ca-certificates-2018 | 135 KB    | ##################################### | 100% \n",
      "conda-4.5.11         | 651 KB    | ##################################### | 100% \n",
      "geographiclib-1.49   | 32 KB     | ##################################### | 100% \n",
      "Preparing transaction: done\n",
      "Verifying transaction: done\n",
      "Executing transaction: done\n",
      "Solving environment: done\n",
      "\n",
      "## Package Plan ##\n",
      "\n",
      "  environment location: /home/jupyterlab/conda\n",
      "\n",
      "  added / updated specs: \n",
      "    - folium=0.5.0\n",
      "\n",
      "\n",
      "The following packages will be downloaded:\n",
      "\n",
      "    package                    |            build\n",
      "    ---------------------------|-----------------\n",
      "    altair-2.2.2               |        py36_1001         494 KB  conda-forge\n",
      "    folium-0.5.0               |             py_0          45 KB  conda-forge\n",
      "    branca-0.3.0               |             py_0          24 KB  conda-forge\n",
      "    vincent-0.4.4              |             py_1          28 KB  conda-forge\n",
      "    ------------------------------------------------------------\n",
      "                                           Total:         592 KB\n",
      "\n",
      "The following NEW packages will be INSTALLED:\n",
      "\n",
      "    altair:  2.2.2-py36_1001 conda-forge\n",
      "    branca:  0.3.0-py_0      conda-forge\n",
      "    folium:  0.5.0-py_0      conda-forge\n",
      "    vincent: 0.4.4-py_1      conda-forge\n",
      "\n",
      "\n",
      "Downloading and Extracting Packages\n",
      "altair-2.2.2         | 494 KB    | ##################################### | 100% \n",
      "folium-0.5.0         | 45 KB     | ##################################### | 100% \n",
      "branca-0.3.0         | 24 KB     | ##################################### | 100% \n",
      "vincent-0.4.4        | 28 KB     | ##################################### | 100% \n",
      "Preparing transaction: done\n",
      "Verifying transaction: done\n",
      "Executing transaction: done\n",
      "Folium installed\n",
      "Libraries imported.\n"
     ]
    }
   ],
   "source": [
    "!conda install -c conda-forge geopy --yes \n",
    "from geopy.geocoders import Nominatim # module to convert an address into latitude and longitude values\n",
    "import requests # library to handle requests\n",
    "import pandas as pd # library for data analsysis\n",
    "import numpy as np # library to handle data in a vectorized manner\n",
    "import random # library for random number generation\n",
    "\n",
    "# libraries for displaying images\n",
    "from IPython.display import Image \n",
    "from IPython.core.display import HTML \n",
    "    \n",
    "# tranforming json file into a pandas dataframe library\n",
    "from pandas.io.json import json_normalize\n",
    "\n",
    "\n",
    "!conda install -c conda-forge folium=0.5.0 --yes\n",
    "import folium # plotting library\n",
    "\n",
    "print('Folium installed')\n",
    "print('Libraries imported.')"
   ]
  },
  {
   "cell_type": "markdown",
   "metadata": {},
   "source": [
    "### Define Foursquare Credentials and Version"
   ]
  },
  {
   "cell_type": "code",
   "execution_count": 2,
   "metadata": {},
   "outputs": [
    {
     "name": "stdout",
     "output_type": "stream",
     "text": [
      "Your credentails:\n",
      "CLIENT_ID: 5ZSRVH5PGXRONTBPVIOU4SNATKX33ZXLS01IPAOE51LCD35T\n",
      "CLIENT_SECRET:RSCJ5YVSEC4XH1OAVVSIS023SLPDOBAKRIBKJRGSSRSNAZLT\n"
     ]
    }
   ],
   "source": [
    "CLIENT_ID = '5ZSRVH5PGXRONTBPVIOU4SNATKX33ZXLS01IPAOE51LCD35T' # your Foursquare ID\n",
    "CLIENT_SECRET = 'RSCJ5YVSEC4XH1OAVVSIS023SLPDOBAKRIBKJRGSSRSNAZLT' # your Foursquare Secret\n",
    "VERSION = '20181023'\n",
    "LIMIT = 30\n",
    "print('Your credentails:')\n",
    "print('CLIENT_ID: ' + CLIENT_ID)\n",
    "print('CLIENT_SECRET:' + CLIENT_SECRET)"
   ]
  },
  {
   "cell_type": "markdown",
   "metadata": {},
   "source": [
    "#### Let's define Manhattan, New York, as an address where we need to explore venues. Next, I'm converting address to its latitude and longitude coordinates."
   ]
  },
  {
   "cell_type": "code",
   "execution_count": 3,
   "metadata": {},
   "outputs": [
    {
     "name": "stderr",
     "output_type": "stream",
     "text": [
      "/home/jupyterlab/conda/lib/python3.6/site-packages/geopy/geocoders/osm.py:143: UserWarning: Using Nominatim with the default \"geopy/1.17.0\" `user_agent` is strongly discouraged, as it violates Nominatim's ToS https://operations.osmfoundation.org/policies/nominatim/ and may possibly cause 403 and 429 HTTP errors. Please specify a custom `user_agent` with `Nominatim(user_agent=\"my-application\")` or by overriding the default `user_agent`: `geopy.geocoders.options.default_user_agent = \"my-application\"`. In geopy 2.0 this will become an exception.\n",
      "  UserWarning\n"
     ]
    },
    {
     "name": "stdout",
     "output_type": "stream",
     "text": [
      "40.7900869 -73.9598295\n"
     ]
    }
   ],
   "source": [
    "address = 'Manhattan, New York'\n",
    "\n",
    "geolocator = Nominatim()\n",
    "location = geolocator.geocode(address)\n",
    "latitude = location.latitude\n",
    "longitude = location.longitude\n",
    "print(latitude, longitude)"
   ]
  },
  {
   "cell_type": "markdown",
   "metadata": {},
   "source": [
    "### Next step is to search for a specific venue category\n",
    "\n",
    "#### Let's define a query to search for Restaurant that is within 500 metres from Manhattan. Send the GET Request and examine the results"
   ]
  },
  {
   "cell_type": "code",
   "execution_count": 4,
   "metadata": {},
   "outputs": [
    {
     "data": {
      "text/plain": [
       "{'meta': {'code': 200, 'requestId': '5bcee9981ed2194284eb9ddb'},\n",
       " 'response': {'venues': [{'id': '4a897cb1f964a5201f0820e3',\n",
       "    'name': '3 Guys Restaurant',\n",
       "    'location': {'address': '49 E 96th St',\n",
       "     'crossStreet': 'Madison Ave',\n",
       "     'lat': 40.787442622504265,\n",
       "     'lng': -73.95403610873488,\n",
       "     'labeledLatLngs': [{'label': 'display',\n",
       "       'lat': 40.787442622504265,\n",
       "       'lng': -73.95403610873488}],\n",
       "     'distance': 570,\n",
       "     'postalCode': '10128',\n",
       "     'cc': 'US',\n",
       "     'city': 'New York',\n",
       "     'state': 'NY',\n",
       "     'country': 'United States',\n",
       "     'formattedAddress': ['49 E 96th St (Madison Ave)',\n",
       "      'New York, NY 10128',\n",
       "      'United States']},\n",
       "    'categories': [{'id': '4bf58dd8d48988d147941735',\n",
       "      'name': 'Diner',\n",
       "      'pluralName': 'Diners',\n",
       "      'shortName': 'Diner',\n",
       "      'icon': {'prefix': 'https://ss3.4sqi.net/img/categories_v2/food/diner_',\n",
       "       'suffix': '.png'},\n",
       "      'primary': True}],\n",
       "    'delivery': {'id': '278300',\n",
       "     'url': 'https://www.seamless.com/menu/3-guys-1381-madison-ave-new-york/278300?affiliate=1131&utm_source=foursquare-affiliate-network&utm_medium=affiliate&utm_campaign=1131&utm_content=278300',\n",
       "     'provider': {'name': 'seamless',\n",
       "      'icon': {'prefix': 'https://igx.4sqi.net/img/general/cap/',\n",
       "       'sizes': [40, 50],\n",
       "       'name': '/delivery_provider_seamless_20180129.png'}}},\n",
       "    'referralId': 'v-1540286872',\n",
       "    'hasPerk': False},\n",
       "   {'id': '4f32afdc19836c91c7efe4af',\n",
       "    'name': \"Hanratty's Restaurant\",\n",
       "    'location': {'address': '1410 Madison Ave',\n",
       "     'lat': 40.788427,\n",
       "     'lng': -73.953659,\n",
       "     'labeledLatLngs': [{'label': 'display',\n",
       "       'lat': 40.788427,\n",
       "       'lng': -73.953659}],\n",
       "     'distance': 551,\n",
       "     'postalCode': '10029',\n",
       "     'cc': 'US',\n",
       "     'city': 'New York',\n",
       "     'state': 'NY',\n",
       "     'country': 'United States',\n",
       "     'formattedAddress': ['1410 Madison Ave',\n",
       "      'New York, NY 10029',\n",
       "      'United States']},\n",
       "    'categories': [{'id': '4d4b7105d754a06374d81259',\n",
       "      'name': 'Food',\n",
       "      'pluralName': 'Food',\n",
       "      'shortName': 'Food',\n",
       "      'icon': {'prefix': 'https://ss3.4sqi.net/img/categories_v2/food/default_',\n",
       "       'suffix': '.png'},\n",
       "      'primary': True}],\n",
       "    'referralId': 'v-1540286872',\n",
       "    'hasPerk': False},\n",
       "   {'id': '4f32456319836c91c7c72940',\n",
       "    'name': 'Polonia Restaurant',\n",
       "    'location': {'address': '1398 Madison Ave',\n",
       "     'lat': 40.787901,\n",
       "     'lng': -73.953672,\n",
       "     'labeledLatLngs': [{'label': 'display',\n",
       "       'lat': 40.787901,\n",
       "       'lng': -73.953672}],\n",
       "     'distance': 573,\n",
       "     'postalCode': '10029',\n",
       "     'cc': 'US',\n",
       "     'city': 'New York',\n",
       "     'state': 'NY',\n",
       "     'country': 'United States',\n",
       "     'formattedAddress': ['1398 Madison Ave',\n",
       "      'New York, NY 10029',\n",
       "      'United States']},\n",
       "    'categories': [{'id': '4d4b7105d754a06374d81259',\n",
       "      'name': 'Food',\n",
       "      'pluralName': 'Food',\n",
       "      'shortName': 'Food',\n",
       "      'icon': {'prefix': 'https://ss3.4sqi.net/img/categories_v2/food/default_',\n",
       "       'suffix': '.png'},\n",
       "      'primary': True}],\n",
       "    'referralId': 'v-1540286872',\n",
       "    'hasPerk': False}]}}"
      ]
     },
     "execution_count": 4,
     "metadata": {},
     "output_type": "execute_result"
    }
   ],
   "source": [
    "search_query = 'Restaurant'\n",
    "radius = 500\n",
    "\n",
    "url = 'https://api.foursquare.com/v2/venues/search?client_id={}&client_secret={}&ll={},{}&v={}&query={}&radius={}&limit={}'.format(CLIENT_ID, CLIENT_SECRET, latitude, longitude, VERSION, search_query, radius, LIMIT)\n",
    "\n",
    "results = requests.get(url).json()\n",
    "results"
   ]
  },
  {
   "cell_type": "markdown",
   "metadata": {},
   "source": [
    "#### Get relevant part of JSON and transform it into a *pandas* dataframe"
   ]
  },
  {
   "cell_type": "code",
   "execution_count": 5,
   "metadata": {},
   "outputs": [
    {
     "data": {
      "text/html": [
       "<div>\n",
       "<style scoped>\n",
       "    .dataframe tbody tr th:only-of-type {\n",
       "        vertical-align: middle;\n",
       "    }\n",
       "\n",
       "    .dataframe tbody tr th {\n",
       "        vertical-align: top;\n",
       "    }\n",
       "\n",
       "    .dataframe thead th {\n",
       "        text-align: right;\n",
       "    }\n",
       "</style>\n",
       "<table border=\"1\" class=\"dataframe\">\n",
       "  <thead>\n",
       "    <tr style=\"text-align: right;\">\n",
       "      <th></th>\n",
       "      <th>categories</th>\n",
       "      <th>delivery.id</th>\n",
       "      <th>delivery.provider.icon.name</th>\n",
       "      <th>delivery.provider.icon.prefix</th>\n",
       "      <th>delivery.provider.icon.sizes</th>\n",
       "      <th>delivery.provider.name</th>\n",
       "      <th>delivery.url</th>\n",
       "      <th>hasPerk</th>\n",
       "      <th>id</th>\n",
       "      <th>location.address</th>\n",
       "      <th>...</th>\n",
       "      <th>location.crossStreet</th>\n",
       "      <th>location.distance</th>\n",
       "      <th>location.formattedAddress</th>\n",
       "      <th>location.labeledLatLngs</th>\n",
       "      <th>location.lat</th>\n",
       "      <th>location.lng</th>\n",
       "      <th>location.postalCode</th>\n",
       "      <th>location.state</th>\n",
       "      <th>name</th>\n",
       "      <th>referralId</th>\n",
       "    </tr>\n",
       "  </thead>\n",
       "  <tbody>\n",
       "    <tr>\n",
       "      <th>0</th>\n",
       "      <td>[{'id': '4bf58dd8d48988d147941735', 'name': 'D...</td>\n",
       "      <td>278300</td>\n",
       "      <td>/delivery_provider_seamless_20180129.png</td>\n",
       "      <td>https://igx.4sqi.net/img/general/cap/</td>\n",
       "      <td>[40, 50]</td>\n",
       "      <td>seamless</td>\n",
       "      <td>https://www.seamless.com/menu/3-guys-1381-madi...</td>\n",
       "      <td>False</td>\n",
       "      <td>4a897cb1f964a5201f0820e3</td>\n",
       "      <td>49 E 96th St</td>\n",
       "      <td>...</td>\n",
       "      <td>Madison Ave</td>\n",
       "      <td>570</td>\n",
       "      <td>[49 E 96th St (Madison Ave), New York, NY 1012...</td>\n",
       "      <td>[{'label': 'display', 'lat': 40.78744262250426...</td>\n",
       "      <td>40.787443</td>\n",
       "      <td>-73.954036</td>\n",
       "      <td>10128</td>\n",
       "      <td>NY</td>\n",
       "      <td>3 Guys Restaurant</td>\n",
       "      <td>v-1540286872</td>\n",
       "    </tr>\n",
       "    <tr>\n",
       "      <th>1</th>\n",
       "      <td>[{'id': '4d4b7105d754a06374d81259', 'name': 'F...</td>\n",
       "      <td>NaN</td>\n",
       "      <td>NaN</td>\n",
       "      <td>NaN</td>\n",
       "      <td>NaN</td>\n",
       "      <td>NaN</td>\n",
       "      <td>NaN</td>\n",
       "      <td>False</td>\n",
       "      <td>4f32afdc19836c91c7efe4af</td>\n",
       "      <td>1410 Madison Ave</td>\n",
       "      <td>...</td>\n",
       "      <td>NaN</td>\n",
       "      <td>551</td>\n",
       "      <td>[1410 Madison Ave, New York, NY 10029, United ...</td>\n",
       "      <td>[{'label': 'display', 'lat': 40.788427, 'lng':...</td>\n",
       "      <td>40.788427</td>\n",
       "      <td>-73.953659</td>\n",
       "      <td>10029</td>\n",
       "      <td>NY</td>\n",
       "      <td>Hanratty's Restaurant</td>\n",
       "      <td>v-1540286872</td>\n",
       "    </tr>\n",
       "    <tr>\n",
       "      <th>2</th>\n",
       "      <td>[{'id': '4d4b7105d754a06374d81259', 'name': 'F...</td>\n",
       "      <td>NaN</td>\n",
       "      <td>NaN</td>\n",
       "      <td>NaN</td>\n",
       "      <td>NaN</td>\n",
       "      <td>NaN</td>\n",
       "      <td>NaN</td>\n",
       "      <td>False</td>\n",
       "      <td>4f32456319836c91c7c72940</td>\n",
       "      <td>1398 Madison Ave</td>\n",
       "      <td>...</td>\n",
       "      <td>NaN</td>\n",
       "      <td>573</td>\n",
       "      <td>[1398 Madison Ave, New York, NY 10029, United ...</td>\n",
       "      <td>[{'label': 'display', 'lat': 40.787901, 'lng':...</td>\n",
       "      <td>40.787901</td>\n",
       "      <td>-73.953672</td>\n",
       "      <td>10029</td>\n",
       "      <td>NY</td>\n",
       "      <td>Polonia Restaurant</td>\n",
       "      <td>v-1540286872</td>\n",
       "    </tr>\n",
       "  </tbody>\n",
       "</table>\n",
       "<p>3 rows × 23 columns</p>\n",
       "</div>"
      ],
      "text/plain": [
       "                                          categories delivery.id  \\\n",
       "0  [{'id': '4bf58dd8d48988d147941735', 'name': 'D...      278300   \n",
       "1  [{'id': '4d4b7105d754a06374d81259', 'name': 'F...         NaN   \n",
       "2  [{'id': '4d4b7105d754a06374d81259', 'name': 'F...         NaN   \n",
       "\n",
       "                delivery.provider.icon.name  \\\n",
       "0  /delivery_provider_seamless_20180129.png   \n",
       "1                                       NaN   \n",
       "2                                       NaN   \n",
       "\n",
       "           delivery.provider.icon.prefix delivery.provider.icon.sizes  \\\n",
       "0  https://igx.4sqi.net/img/general/cap/                     [40, 50]   \n",
       "1                                    NaN                          NaN   \n",
       "2                                    NaN                          NaN   \n",
       "\n",
       "  delivery.provider.name                                       delivery.url  \\\n",
       "0               seamless  https://www.seamless.com/menu/3-guys-1381-madi...   \n",
       "1                    NaN                                                NaN   \n",
       "2                    NaN                                                NaN   \n",
       "\n",
       "   hasPerk                        id  location.address      ...       \\\n",
       "0    False  4a897cb1f964a5201f0820e3      49 E 96th St      ...        \n",
       "1    False  4f32afdc19836c91c7efe4af  1410 Madison Ave      ...        \n",
       "2    False  4f32456319836c91c7c72940  1398 Madison Ave      ...        \n",
       "\n",
       "  location.crossStreet location.distance  \\\n",
       "0          Madison Ave               570   \n",
       "1                  NaN               551   \n",
       "2                  NaN               573   \n",
       "\n",
       "                           location.formattedAddress  \\\n",
       "0  [49 E 96th St (Madison Ave), New York, NY 1012...   \n",
       "1  [1410 Madison Ave, New York, NY 10029, United ...   \n",
       "2  [1398 Madison Ave, New York, NY 10029, United ...   \n",
       "\n",
       "                             location.labeledLatLngs  location.lat  \\\n",
       "0  [{'label': 'display', 'lat': 40.78744262250426...     40.787443   \n",
       "1  [{'label': 'display', 'lat': 40.788427, 'lng':...     40.788427   \n",
       "2  [{'label': 'display', 'lat': 40.787901, 'lng':...     40.787901   \n",
       "\n",
       "  location.lng location.postalCode  location.state                   name  \\\n",
       "0   -73.954036               10128              NY      3 Guys Restaurant   \n",
       "1   -73.953659               10029              NY  Hanratty's Restaurant   \n",
       "2   -73.953672               10029              NY     Polonia Restaurant   \n",
       "\n",
       "     referralId  \n",
       "0  v-1540286872  \n",
       "1  v-1540286872  \n",
       "2  v-1540286872  \n",
       "\n",
       "[3 rows x 23 columns]"
      ]
     },
     "execution_count": 5,
     "metadata": {},
     "output_type": "execute_result"
    }
   ],
   "source": [
    "venues = results['response']['venues']\n",
    "\n",
    "dataframe = json_normalize(venues)\n",
    "dataframe.head()"
   ]
  },
  {
   "cell_type": "markdown",
   "metadata": {},
   "source": [
    "#### Define information of interest and filter Dataframe"
   ]
  },
  {
   "cell_type": "code",
   "execution_count": 6,
   "metadata": {},
   "outputs": [
    {
     "data": {
      "text/html": [
       "<div>\n",
       "<style scoped>\n",
       "    .dataframe tbody tr th:only-of-type {\n",
       "        vertical-align: middle;\n",
       "    }\n",
       "\n",
       "    .dataframe tbody tr th {\n",
       "        vertical-align: top;\n",
       "    }\n",
       "\n",
       "    .dataframe thead th {\n",
       "        text-align: right;\n",
       "    }\n",
       "</style>\n",
       "<table border=\"1\" class=\"dataframe\">\n",
       "  <thead>\n",
       "    <tr style=\"text-align: right;\">\n",
       "      <th></th>\n",
       "      <th>name</th>\n",
       "      <th>categories</th>\n",
       "      <th>address</th>\n",
       "      <th>cc</th>\n",
       "      <th>city</th>\n",
       "      <th>country</th>\n",
       "      <th>crossStreet</th>\n",
       "      <th>distance</th>\n",
       "      <th>formattedAddress</th>\n",
       "      <th>labeledLatLngs</th>\n",
       "      <th>lat</th>\n",
       "      <th>lng</th>\n",
       "      <th>postalCode</th>\n",
       "      <th>state</th>\n",
       "      <th>id</th>\n",
       "    </tr>\n",
       "  </thead>\n",
       "  <tbody>\n",
       "    <tr>\n",
       "      <th>0</th>\n",
       "      <td>3 Guys Restaurant</td>\n",
       "      <td>Diner</td>\n",
       "      <td>49 E 96th St</td>\n",
       "      <td>US</td>\n",
       "      <td>New York</td>\n",
       "      <td>United States</td>\n",
       "      <td>Madison Ave</td>\n",
       "      <td>570</td>\n",
       "      <td>[49 E 96th St (Madison Ave), New York, NY 1012...</td>\n",
       "      <td>[{'label': 'display', 'lat': 40.78744262250426...</td>\n",
       "      <td>40.787443</td>\n",
       "      <td>-73.954036</td>\n",
       "      <td>10128</td>\n",
       "      <td>NY</td>\n",
       "      <td>4a897cb1f964a5201f0820e3</td>\n",
       "    </tr>\n",
       "    <tr>\n",
       "      <th>1</th>\n",
       "      <td>Hanratty's Restaurant</td>\n",
       "      <td>Food</td>\n",
       "      <td>1410 Madison Ave</td>\n",
       "      <td>US</td>\n",
       "      <td>New York</td>\n",
       "      <td>United States</td>\n",
       "      <td>NaN</td>\n",
       "      <td>551</td>\n",
       "      <td>[1410 Madison Ave, New York, NY 10029, United ...</td>\n",
       "      <td>[{'label': 'display', 'lat': 40.788427, 'lng':...</td>\n",
       "      <td>40.788427</td>\n",
       "      <td>-73.953659</td>\n",
       "      <td>10029</td>\n",
       "      <td>NY</td>\n",
       "      <td>4f32afdc19836c91c7efe4af</td>\n",
       "    </tr>\n",
       "    <tr>\n",
       "      <th>2</th>\n",
       "      <td>Polonia Restaurant</td>\n",
       "      <td>Food</td>\n",
       "      <td>1398 Madison Ave</td>\n",
       "      <td>US</td>\n",
       "      <td>New York</td>\n",
       "      <td>United States</td>\n",
       "      <td>NaN</td>\n",
       "      <td>573</td>\n",
       "      <td>[1398 Madison Ave, New York, NY 10029, United ...</td>\n",
       "      <td>[{'label': 'display', 'lat': 40.787901, 'lng':...</td>\n",
       "      <td>40.787901</td>\n",
       "      <td>-73.953672</td>\n",
       "      <td>10029</td>\n",
       "      <td>NY</td>\n",
       "      <td>4f32456319836c91c7c72940</td>\n",
       "    </tr>\n",
       "  </tbody>\n",
       "</table>\n",
       "</div>"
      ],
      "text/plain": [
       "                    name categories           address  cc      city  \\\n",
       "0      3 Guys Restaurant      Diner      49 E 96th St  US  New York   \n",
       "1  Hanratty's Restaurant       Food  1410 Madison Ave  US  New York   \n",
       "2     Polonia Restaurant       Food  1398 Madison Ave  US  New York   \n",
       "\n",
       "         country  crossStreet  distance  \\\n",
       "0  United States  Madison Ave       570   \n",
       "1  United States          NaN       551   \n",
       "2  United States          NaN       573   \n",
       "\n",
       "                                    formattedAddress  \\\n",
       "0  [49 E 96th St (Madison Ave), New York, NY 1012...   \n",
       "1  [1410 Madison Ave, New York, NY 10029, United ...   \n",
       "2  [1398 Madison Ave, New York, NY 10029, United ...   \n",
       "\n",
       "                                      labeledLatLngs        lat        lng  \\\n",
       "0  [{'label': 'display', 'lat': 40.78744262250426...  40.787443 -73.954036   \n",
       "1  [{'label': 'display', 'lat': 40.788427, 'lng':...  40.788427 -73.953659   \n",
       "2  [{'label': 'display', 'lat': 40.787901, 'lng':...  40.787901 -73.953672   \n",
       "\n",
       "  postalCode state                        id  \n",
       "0      10128    NY  4a897cb1f964a5201f0820e3  \n",
       "1      10029    NY  4f32afdc19836c91c7efe4af  \n",
       "2      10029    NY  4f32456319836c91c7c72940  "
      ]
     },
     "execution_count": 6,
     "metadata": {},
     "output_type": "execute_result"
    }
   ],
   "source": [
    "# keep only columns that include venue name, and anything that is associated with location\n",
    "filtered_columns = ['name', 'categories'] + [col for col in dataframe.columns if col.startswith('location.')] + ['id']\n",
    "dataframe_filtered = dataframe.loc[:, filtered_columns]\n",
    "\n",
    "# function that extracts the category of the venue\n",
    "def get_category_type(row):\n",
    "    try:\n",
    "        categories_list = row['categories']\n",
    "    except:\n",
    "        categories_list = row['venue.categories']\n",
    "        \n",
    "    if len(categories_list) == 0:\n",
    "        return None\n",
    "    else:\n",
    "        return categories_list[0]['name']\n",
    "\n",
    "# filter the category for each row\n",
    "dataframe_filtered['categories'] = dataframe_filtered.apply(get_category_type, axis=1)\n",
    "\n",
    "# clean column names by keeping only last term\n",
    "dataframe_filtered.columns = [column.split('.')[-1] for column in dataframe_filtered.columns]\n",
    "\n",
    "dataframe_filtered"
   ]
  },
  {
   "cell_type": "markdown",
   "metadata": {},
   "source": [
    "#### Visualize the Restaurants that are nearby"
   ]
  },
  {
   "cell_type": "code",
   "execution_count": 7,
   "metadata": {},
   "outputs": [
    {
     "data": {
      "text/plain": [
       "0        3 Guys Restaurant\n",
       "1    Hanratty's Restaurant\n",
       "2       Polonia Restaurant\n",
       "Name: name, dtype: object"
      ]
     },
     "execution_count": 7,
     "metadata": {},
     "output_type": "execute_result"
    }
   ],
   "source": [
    "dataframe_filtered.name"
   ]
  },
  {
   "cell_type": "code",
   "execution_count": 8,
   "metadata": {},
   "outputs": [
    {
     "data": {
      "text/html": [
       "<div style=\"width:100%;\"><div style=\"position:relative;width:100%;height:0;padding-bottom:60%;\"><iframe src=\"data:text/html;charset=utf-8;base64,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\" style=\"position:absolute;width:100%;height:100%;left:0;top:0;border:none !important;\" allowfullscreen webkitallowfullscreen mozallowfullscreen></iframe></div></div>"
      ],
      "text/plain": [
       "<folium.folium.Map at 0x7f576e7bebe0>"
      ]
     },
     "execution_count": 8,
     "metadata": {},
     "output_type": "execute_result"
    }
   ],
   "source": [
    "venues_map = folium.Map(location=[latitude, longitude], zoom_start=13) # generate map centred around the Tour Eiffel\n",
    "\n",
    "# add a red circle marker to represent the Tour Eiffel\n",
    "folium.features.CircleMarker(\n",
    "    [latitude, longitude],\n",
    "    radius=10,\n",
    "    color='red',\n",
    "    popup='Manhattan',\n",
    "    fill = True,\n",
    "    fill_color = 'red',\n",
    "    fill_opacity = 0.6\n",
    ").add_to(venues_map)\n",
    "\n",
    "# add the ___________ as blue circle markers\n",
    "for lat, lng, label in zip(dataframe_filtered.lat, dataframe_filtered.lng, dataframe_filtered.categories):\n",
    "    folium.features.CircleMarker(\n",
    "        [lat, lng],\n",
    "        radius=5,\n",
    "        color='blue',\n",
    "        popup=label,\n",
    "        fill = True,\n",
    "        fill_color='blue',\n",
    "        fill_opacity=0.6\n",
    "    ).add_to(venues_map)\n",
    "\n",
    "# display map\n",
    "venues_map"
   ]
  },
  {
   "cell_type": "markdown",
   "metadata": {},
   "source": [
    "### Let's explore the closest Restaurant -- _3 Guys Restaurant_"
   ]
  },
  {
   "cell_type": "code",
   "execution_count": 9,
   "metadata": {},
   "outputs": [
    {
     "data": {
      "text/plain": [
       "'https://api.foursquare.com/v2/venues/4a897cb1f964a5201f0820e3?client_id=5ZSRVH5PGXRONTBPVIOU4SNATKX33ZXLS01IPAOE51LCD35T&client_secret=RSCJ5YVSEC4XH1OAVVSIS023SLPDOBAKRIBKJRGSSRSNAZLT&v=20181023'"
      ]
     },
     "execution_count": 9,
     "metadata": {},
     "output_type": "execute_result"
    }
   ],
   "source": [
    "venue_id = '4a897cb1f964a5201f0820e3' # ID of 3 Guys Restaurant\n",
    "url = 'https://api.foursquare.com/v2/venues/{}?client_id={}&client_secret={}&v={}'.format(venue_id, CLIENT_ID, CLIENT_SECRET, VERSION)\n",
    "url"
   ]
  },
  {
   "cell_type": "markdown",
   "metadata": {},
   "source": [
    "### Let's _GET_ request for result"
   ]
  },
  {
   "cell_type": "code",
   "execution_count": 10,
   "metadata": {},
   "outputs": [
    {
     "name": "stdout",
     "output_type": "stream",
     "text": [
      "dict_keys(['id', 'name', 'contact', 'location', 'canonicalUrl', 'categories', 'verified', 'stats', 'price', 'hasMenu', 'likes', 'dislike', 'ok', 'rating', 'ratingColor', 'ratingSignals', 'delivery', 'menu', 'allowMenuUrlEdit', 'beenHere', 'specials', 'photos', 'reasons', 'hereNow', 'createdAt', 'tips', 'shortUrl', 'timeZone', 'listed', 'popular', 'pageUpdates', 'inbox', 'attributes', 'bestPhoto', 'colors'])\n"
     ]
    },
    {
     "data": {
      "text/plain": [
       "{'id': '4a897cb1f964a5201f0820e3',\n",
       " 'name': '3 Guys Restaurant',\n",
       " 'contact': {'phone': '2123483800', 'formattedPhone': '(212) 348-3800'},\n",
       " 'location': {'address': '49 E 96th St',\n",
       "  'crossStreet': 'Madison Ave',\n",
       "  'lat': 40.787442622504265,\n",
       "  'lng': -73.95403610873488,\n",
       "  'labeledLatLngs': [{'label': 'display',\n",
       "    'lat': 40.787442622504265,\n",
       "    'lng': -73.95403610873488}],\n",
       "  'postalCode': '10128',\n",
       "  'cc': 'US',\n",
       "  'city': 'New York',\n",
       "  'state': 'NY',\n",
       "  'country': 'United States',\n",
       "  'formattedAddress': ['49 E 96th St (Madison Ave)',\n",
       "   'New York, NY 10128',\n",
       "   'United States']},\n",
       " 'canonicalUrl': 'https://foursquare.com/v/3-guys-restaurant/4a897cb1f964a5201f0820e3',\n",
       " 'categories': [{'id': '4bf58dd8d48988d147941735',\n",
       "   'name': 'Diner',\n",
       "   'pluralName': 'Diners',\n",
       "   'shortName': 'Diner',\n",
       "   'icon': {'prefix': 'https://ss3.4sqi.net/img/categories_v2/food/diner_',\n",
       "    'suffix': '.png'},\n",
       "   'primary': True}],\n",
       " 'verified': False,\n",
       " 'stats': {'tipCount': 16},\n",
       " 'price': {'tier': 2, 'message': 'Moderate', 'currency': '$'},\n",
       " 'hasMenu': True,\n",
       " 'likes': {'count': 16,\n",
       "  'groups': [{'type': 'others', 'count': 16, 'items': []}],\n",
       "  'summary': '16 Likes'},\n",
       " 'dislike': False,\n",
       " 'ok': False,\n",
       " 'rating': 5.1,\n",
       " 'ratingColor': 'FF9600',\n",
       " 'ratingSignals': 59,\n",
       " 'delivery': {'id': '278300',\n",
       "  'url': 'https://www.seamless.com/menu/3-guys-1381-madison-ave-new-york/278300?affiliate=1131&utm_source=foursquare-affiliate-network&utm_medium=affiliate&utm_campaign=1131&utm_content=278300',\n",
       "  'provider': {'name': 'seamless',\n",
       "   'icon': {'prefix': 'https://igx.4sqi.net/img/general/cap/',\n",
       "    'sizes': [40, 50],\n",
       "    'name': '/delivery_provider_seamless_20180129.png'}}},\n",
       " 'menu': {'type': 'Menu',\n",
       "  'label': 'Menu',\n",
       "  'anchor': 'View Menu',\n",
       "  'url': 'https://foursquare.com/v/3-guys-restaurant/4a897cb1f964a5201f0820e3/menu',\n",
       "  'mobileUrl': 'https://foursquare.com/v/4a897cb1f964a5201f0820e3/device_menu'},\n",
       " 'allowMenuUrlEdit': True,\n",
       " 'beenHere': {'count': 0,\n",
       "  'unconfirmedCount': 0,\n",
       "  'marked': False,\n",
       "  'lastCheckinExpiredAt': 0},\n",
       " 'specials': {'count': 0, 'items': []},\n",
       " 'photos': {'count': 22,\n",
       "  'groups': [{'type': 'checkin',\n",
       "    'name': \"Friends' check-in photos\",\n",
       "    'count': 0,\n",
       "    'items': []},\n",
       "   {'type': 'venue',\n",
       "    'name': 'Venue photos',\n",
       "    'count': 22,\n",
       "    'items': [{'id': '4fe49a8de4b077d44df68ddc',\n",
       "      'createdAt': 1340381837,\n",
       "      'source': {'name': 'Foursquare for iOS',\n",
       "       'url': 'https://foursquare.com/download/#/iphone'},\n",
       "      'prefix': 'https://igx.4sqi.net/img/general/',\n",
       "      'suffix': '/2_mph_GOq_zfnH_N0bsxF8sVeKv5Ka6OHgYrxlR1SAA.jpg',\n",
       "      'width': 720,\n",
       "      'height': 540,\n",
       "      'user': {'id': '16262446',\n",
       "       'firstName': 'Johan',\n",
       "       'lastName': 'Sanmartin',\n",
       "       'gender': 'male',\n",
       "       'photo': {'prefix': 'https://igx.4sqi.net/img/user/',\n",
       "        'suffix': '/G1WCHKTAVWB4TDA5.jpg'}},\n",
       "      'visibility': 'public'}]}],\n",
       "  'summary': '0 photos'},\n",
       " 'reasons': {'count': 0, 'items': []},\n",
       " 'hereNow': {'count': 0, 'summary': 'Nobody here', 'groups': []},\n",
       " 'createdAt': 1250524337,\n",
       " 'tips': {'count': 16,\n",
       "  'groups': [{'type': 'others',\n",
       "    'name': 'All tips',\n",
       "    'count': 16,\n",
       "    'items': [{'id': '584998d23ef0f64053f34e75',\n",
       "      'createdAt': 1481218258,\n",
       "      'text': 'Best vanilla egg creams in the UES, hands down.',\n",
       "      'type': 'user',\n",
       "      'canonicalUrl': 'https://foursquare.com/item/584998d23ef0f64053f34e75',\n",
       "      'lang': 'en',\n",
       "      'likes': {'count': 0, 'groups': []},\n",
       "      'logView': True,\n",
       "      'agreeCount': 0,\n",
       "      'disagreeCount': 0,\n",
       "      'todo': {'count': 0},\n",
       "      'user': {'id': '17751334',\n",
       "       'firstName': 'Elizabeth',\n",
       "       'lastName': 'Rice',\n",
       "       'gender': 'female',\n",
       "       'photo': {'prefix': 'https://igx.4sqi.net/img/user/',\n",
       "        'suffix': '/17751334-EXP0OQXXPUCTSOTI.jpg'}},\n",
       "      'authorInteractionType': 'liked'}]}]},\n",
       " 'shortUrl': 'http://4sq.com/dabvre',\n",
       " 'timeZone': 'America/New_York',\n",
       " 'listed': {'count': 6,\n",
       "  'groups': [{'type': 'others',\n",
       "    'name': 'Lists from other people',\n",
       "    'count': 6,\n",
       "    'items': [{'id': '5673264b498e672bdbb5712d',\n",
       "      'name': 'NY Normcore Dining',\n",
       "      'description': 'From http://www.grubstreet.com/2015/12/nostalgic-comfort-of-normcore-dining.html',\n",
       "      'entities': [{'indices': [5, 80],\n",
       "        'type': 'url',\n",
       "        'object': {'url': 'http://www.grubstreet.com/2015/12/nostalgic-comfort-of-normcore-dining.html'}}],\n",
       "      'type': 'others',\n",
       "      'user': {'id': '1503',\n",
       "       'firstName': 'Peter',\n",
       "       'lastName': 'Robinett',\n",
       "       'gender': 'male',\n",
       "       'photo': {'prefix': 'https://igx.4sqi.net/img/user/',\n",
       "        'suffix': '/JSXLLIO2XYK13M0Y.jpg'}},\n",
       "      'editable': False,\n",
       "      'public': True,\n",
       "      'collaborative': False,\n",
       "      'url': '/pr1001/list/ny-normcore-dining',\n",
       "      'canonicalUrl': 'https://foursquare.com/pr1001/list/ny-normcore-dining',\n",
       "      'createdAt': 1450387019,\n",
       "      'updatedAt': 1450390212,\n",
       "      'photo': {'id': '5001d8fde4b0645fed123c14',\n",
       "       'createdAt': 1342298365,\n",
       "       'prefix': 'https://igx.4sqi.net/img/general/',\n",
       "       'suffix': '/8b85LWtkW9kg4DbzeSk7NFwkYwaxycmzKQM56r0z1yU.jpg',\n",
       "       'width': 612,\n",
       "       'height': 612,\n",
       "       'user': {'id': '7001939',\n",
       "        'firstName': 'Edward',\n",
       "        'lastName': 'Garou',\n",
       "        'gender': 'male',\n",
       "        'photo': {'prefix': 'https://igx.4sqi.net/img/user/',\n",
       "         'suffix': '/WXL10RWBHECGEWVW.jpg'}},\n",
       "       'visibility': 'public'},\n",
       "      'followers': {'count': 1},\n",
       "      'listItems': {'count': 112,\n",
       "       'items': [{'id': 'v4a897cb1f964a5201f0820e3',\n",
       "         'createdAt': 1450389967}]}},\n",
       "     {'id': '5117f131e4b02a04c0879dd1',\n",
       "      'name': 'Been there, would repeat',\n",
       "      'description': '',\n",
       "      'type': 'others',\n",
       "      'user': {'id': '47499990',\n",
       "       'firstName': 'Paco',\n",
       "       'lastName': 'Carreño-Galvez',\n",
       "       'gender': 'male',\n",
       "       'photo': {'prefix': 'https://igx.4sqi.net/img/user/',\n",
       "        'suffix': '/1JWZ0CFE0NFNOZ33.jpg'}},\n",
       "      'editable': False,\n",
       "      'public': True,\n",
       "      'collaborative': False,\n",
       "      'url': '/paco_carreno/list/been-there-would-repeat',\n",
       "      'canonicalUrl': 'https://foursquare.com/paco_carreno/list/been-there-would-repeat',\n",
       "      'createdAt': 1360523569,\n",
       "      'updatedAt': 1365421882,\n",
       "      'followers': {'count': 0},\n",
       "      'listItems': {'count': 4,\n",
       "       'items': [{'id': 't5117f0bde4b0446be451eff3',\n",
       "         'createdAt': 1360523569}]}},\n",
       "     {'id': '51dd6720498ebbc844cc249d',\n",
       "      'name': 'New Places to Try',\n",
       "      'description': '',\n",
       "      'type': 'others',\n",
       "      'user': {'id': '12891870',\n",
       "       'firstName': 'Jia',\n",
       "       'lastName': 'Yan',\n",
       "       'gender': 'female',\n",
       "       'photo': {'prefix': 'https://igx.4sqi.net/img/user/',\n",
       "        'suffix': '/12891870-RBIR4VYCCCTNSXEO.jpg'}},\n",
       "      'editable': False,\n",
       "      'public': True,\n",
       "      'collaborative': False,\n",
       "      'url': '/user/12891870/list/new-places-to-try',\n",
       "      'canonicalUrl': 'https://foursquare.com/user/12891870/list/new-places-to-try',\n",
       "      'createdAt': 1373464352,\n",
       "      'updatedAt': 1536359539,\n",
       "      'followers': {'count': 0},\n",
       "      'listItems': {'count': 153, 'items': []}}]}]},\n",
       " 'popular': {'isOpen': False,\n",
       "  'isLocalHoliday': False,\n",
       "  'timeframes': [{'days': 'Today',\n",
       "    'includesToday': True,\n",
       "    'open': [{'renderedTime': '6:00 AM–7:00 AM'},\n",
       "     {'renderedTime': '10:00 AM–3:00 PM'},\n",
       "     {'renderedTime': '8:00 PM–9:00 PM'}],\n",
       "    'segments': []},\n",
       "   {'days': 'Wed',\n",
       "    'open': [{'renderedTime': '6:00 AM–2:00 PM'},\n",
       "     {'renderedTime': '6:00 PM–8:00 PM'}],\n",
       "    'segments': []},\n",
       "   {'days': 'Thu',\n",
       "    'open': [{'renderedTime': '6:00 AM–4:00 PM'},\n",
       "     {'renderedTime': '6:00 PM–8:00 PM'}],\n",
       "    'segments': []},\n",
       "   {'days': 'Fri',\n",
       "    'open': [{'renderedTime': '8:00 AM–3:00 PM'},\n",
       "     {'renderedTime': '5:00 PM–6:00 PM'}],\n",
       "    'segments': []},\n",
       "   {'days': 'Sat',\n",
       "    'open': [{'renderedTime': '9:00 AM–4:00 PM'}],\n",
       "    'segments': []},\n",
       "   {'days': 'Sun',\n",
       "    'open': [{'renderedTime': '9:00 AM–8:00 PM'}],\n",
       "    'segments': []},\n",
       "   {'days': 'Mon',\n",
       "    'open': [{'renderedTime': '10:00 AM–3:00 PM'},\n",
       "     {'renderedTime': '7:00 PM–9:00 PM'}],\n",
       "    'segments': []}]},\n",
       " 'pageUpdates': {'count': 0, 'items': []},\n",
       " 'inbox': {'count': 0, 'items': []},\n",
       " 'attributes': {'groups': [{'type': 'price',\n",
       "    'name': 'Price',\n",
       "    'summary': '$$',\n",
       "    'count': 1,\n",
       "    'items': [{'displayName': 'Price', 'displayValue': '$$', 'priceTier': 2}]},\n",
       "   {'type': 'reservations',\n",
       "    'name': 'Reservations',\n",
       "    'count': 3,\n",
       "    'items': [{'displayName': 'Reservations', 'displayValue': 'No'}]},\n",
       "   {'type': 'payments',\n",
       "    'name': 'Credit Cards',\n",
       "    'summary': 'Credit Cards',\n",
       "    'count': 7,\n",
       "    'items': [{'displayName': 'Credit Cards',\n",
       "      'displayValue': 'Yes (incl. American Express)'}]},\n",
       "   {'type': 'outdoorSeating',\n",
       "    'name': 'Outdoor Seating',\n",
       "    'count': 1,\n",
       "    'items': [{'displayName': 'Outdoor Seating', 'displayValue': 'No'}]},\n",
       "   {'type': 'serves',\n",
       "    'name': 'Menus',\n",
       "    'summary': 'Dinner, Lunch & more',\n",
       "    'count': 8,\n",
       "    'items': [{'displayName': 'Brunch', 'displayValue': 'Brunch'},\n",
       "     {'displayName': 'Lunch', 'displayValue': 'Lunch'},\n",
       "     {'displayName': 'Dinner', 'displayValue': 'Dinner'}]},\n",
       "   {'type': 'diningOptions',\n",
       "    'name': 'Dining Options',\n",
       "    'summary': 'Delivery',\n",
       "    'count': 5,\n",
       "    'items': [{'displayName': 'Delivery', 'displayValue': 'Delivery'}]}]},\n",
       " 'bestPhoto': {'id': '4fe49a8de4b077d44df68ddc',\n",
       "  'createdAt': 1340381837,\n",
       "  'source': {'name': 'Foursquare for iOS',\n",
       "   'url': 'https://foursquare.com/download/#/iphone'},\n",
       "  'prefix': 'https://igx.4sqi.net/img/general/',\n",
       "  'suffix': '/2_mph_GOq_zfnH_N0bsxF8sVeKv5Ka6OHgYrxlR1SAA.jpg',\n",
       "  'width': 720,\n",
       "  'height': 540,\n",
       "  'visibility': 'public'},\n",
       " 'colors': {'highlightColor': {'photoId': '4fe49a8de4b077d44df68ddc',\n",
       "   'value': -14673896},\n",
       "  'highlightTextColor': {'photoId': '4fe49a8de4b077d44df68ddc', 'value': -1},\n",
       "  'algoVersion': 3}}"
      ]
     },
     "execution_count": 10,
     "metadata": {},
     "output_type": "execute_result"
    }
   ],
   "source": [
    "result = requests.get(url).json()\n",
    "print(result['response']['venue'].keys())\n",
    "result['response']['venue']"
   ]
  },
  {
   "cell_type": "markdown",
   "metadata": {},
   "source": [
    "### Get the Restaurant's overall rating"
   ]
  },
  {
   "cell_type": "code",
   "execution_count": 11,
   "metadata": {},
   "outputs": [
    {
     "name": "stdout",
     "output_type": "stream",
     "text": [
      "5.1\n"
     ]
    }
   ],
   "source": [
    "try:\n",
    "    print(result['response']['venue']['rating'])\n",
    "except:\n",
    "    print('This venue has not been rated yet.')"
   ]
  },
  {
   "cell_type": "markdown",
   "metadata": {},
   "source": [
    "That is not a very good rating. Let's check the reviews of the restaurant."
   ]
  },
  {
   "cell_type": "markdown",
   "metadata": {},
   "source": [
    "### Get the number of _tips_"
   ]
  },
  {
   "cell_type": "code",
   "execution_count": 12,
   "metadata": {},
   "outputs": [
    {
     "data": {
      "text/plain": [
       "16"
      ]
     },
     "execution_count": 12,
     "metadata": {},
     "output_type": "execute_result"
    }
   ],
   "source": [
    "result['response']['venue']['tips']['count']"
   ]
  },
  {
   "cell_type": "markdown",
   "metadata": {},
   "source": [
    "#### Create URL and send _GET_ request."
   ]
  },
  {
   "cell_type": "code",
   "execution_count": 41,
   "metadata": {},
   "outputs": [
    {
     "data": {
      "text/plain": [
       "'https://api.foursquare.com/v2/venues/4a897cb1f964a5201f0820e3/tips?client_id=5ZSRVH5PGXRONTBPVIOU4SNATKX33ZXLS01IPAOE51LCD35T&client_secret=RSCJ5YVSEC4XH1OAVVSIS023SLPDOBAKRIBKJRGSSRSNAZLT&v=20181023&limit=16'"
      ]
     },
     "execution_count": 41,
     "metadata": {},
     "output_type": "execute_result"
    }
   ],
   "source": [
    "limit = 16 # set limit to be greater than or equal to the total number of tips\n",
    "url = 'https://api.foursquare.com/v2/venues/{}/tips?client_id={}&client_secret={}&v={}&limit={}'.format(venue_id, CLIENT_ID, CLIENT_SECRET, VERSION, limit)\n",
    "url"
   ]
  },
  {
   "cell_type": "code",
   "execution_count": 31,
   "metadata": {},
   "outputs": [
    {
     "data": {
      "text/plain": [
       "{'meta': {'code': 200, 'requestId': '5bcef7b1dd579707537901ad'},\n",
       " 'response': {'tips': {'count': 16,\n",
       "   'items': [{'id': '57105fab498e998577de6763',\n",
       "     'createdAt': 1460690859,\n",
       "     'text': \"I've been here literally 100 times. It took 100 tries but I finally found something I like, something that's a bit better than mediocre, which most of their food is. The pasta primavera! Yum\",\n",
       "     'type': 'user',\n",
       "     'canonicalUrl': 'https://foursquare.com/item/57105fab498e998577de6763',\n",
       "     'lang': 'en',\n",
       "     'likes': {'count': 0, 'groups': []},\n",
       "     'logView': True,\n",
       "     'agreeCount': 0,\n",
       "     'disagreeCount': 0,\n",
       "     'todo': {'count': 0},\n",
       "     'user': {'id': '42432565',\n",
       "      'firstName': 'Lane',\n",
       "      'lastName': 'Rettig',\n",
       "      'gender': 'male',\n",
       "      'photo': {'prefix': 'https://igx.4sqi.net/img/user/',\n",
       "       'suffix': '/42432565-OYCOOBEOD2XX4UDU.jpg'}},\n",
       "     'authorInteractionType': 'meh'}]}}}"
      ]
     },
     "execution_count": 31,
     "metadata": {},
     "output_type": "execute_result"
    }
   ],
   "source": [
    "results = requests.get(url).json()\n",
    "results"
   ]
  },
  {
   "cell_type": "markdown",
   "metadata": {},
   "source": [
    "#### Get tips and list of associated features"
   ]
  },
  {
   "cell_type": "code",
   "execution_count": 46,
   "metadata": {},
   "outputs": [
    {
     "data": {
      "text/plain": [
       "dict_keys(['id', 'createdAt', 'text', 'type', 'canonicalUrl', 'lang', 'likes', 'logView', 'agreeCount', 'disagreeCount', 'todo', 'user', 'authorInteractionType'])"
      ]
     },
     "execution_count": 46,
     "metadata": {},
     "output_type": "execute_result"
    }
   ],
   "source": [
    "tips = results['response']['tips']['items']\n",
    "\n",
    "tip = results['response']['tips']['items'][0]\n",
    "tip.keys()"
   ]
  },
  {
   "cell_type": "markdown",
   "metadata": {},
   "source": [
    "#### Format column width and display all tips"
   ]
  },
  {
   "cell_type": "code",
   "execution_count": 47,
   "metadata": {},
   "outputs": [
    {
     "data": {
      "text/html": [
       "<div>\n",
       "<style scoped>\n",
       "    .dataframe tbody tr th:only-of-type {\n",
       "        vertical-align: middle;\n",
       "    }\n",
       "\n",
       "    .dataframe tbody tr th {\n",
       "        vertical-align: top;\n",
       "    }\n",
       "\n",
       "    .dataframe thead th {\n",
       "        text-align: right;\n",
       "    }\n",
       "</style>\n",
       "<table border=\"1\" class=\"dataframe\">\n",
       "  <thead>\n",
       "    <tr style=\"text-align: right;\">\n",
       "      <th></th>\n",
       "      <th>text</th>\n",
       "      <th>agreeCount</th>\n",
       "      <th>disagreeCount</th>\n",
       "      <th>id</th>\n",
       "      <th>user.firstName</th>\n",
       "      <th>user.lastName</th>\n",
       "      <th>user.gender</th>\n",
       "      <th>user.id</th>\n",
       "    </tr>\n",
       "  </thead>\n",
       "  <tbody>\n",
       "    <tr>\n",
       "      <th>0</th>\n",
       "      <td>I've been here literally 100 times. It took 100 tries but I finally found something I like, something that's a bit better than mediocre, which most of their food is. The pasta primavera! Yum</td>\n",
       "      <td>0</td>\n",
       "      <td>0</td>\n",
       "      <td>57105fab498e998577de6763</td>\n",
       "      <td>Lane</td>\n",
       "      <td>Rettig</td>\n",
       "      <td>male</td>\n",
       "      <td>42432565</td>\n",
       "    </tr>\n",
       "  </tbody>\n",
       "</table>\n",
       "</div>"
      ],
      "text/plain": [
       "                                                                                                                                                                                             text  \\\n",
       "0  I've been here literally 100 times. It took 100 tries but I finally found something I like, something that's a bit better than mediocre, which most of their food is. The pasta primavera! Yum   \n",
       "\n",
       "   agreeCount  disagreeCount                        id user.firstName  \\\n",
       "0  0           0              57105fab498e998577de6763  Lane            \n",
       "\n",
       "  user.lastName user.gender   user.id  \n",
       "0  Rettig        male        42432565  "
      ]
     },
     "execution_count": 47,
     "metadata": {},
     "output_type": "execute_result"
    }
   ],
   "source": [
    "pd.set_option('display.max_colwidth', -1)\n",
    "\n",
    "tips_df = json_normalize(tips) # json normalize tips\n",
    "\n",
    "# columns to keep\n",
    "filtered_columns = ['text', 'agreeCount', 'disagreeCount', 'id', 'user.firstName', 'user.lastName', 'user.gender', 'user.id']\n",
    "tips_filtered = tips_df.loc[:, filtered_columns]\n",
    "\n",
    "# display tips\n",
    "tips_filtered"
   ]
  },
  {
   "cell_type": "markdown",
   "metadata": {},
   "source": [
    "Limitation: using a personal developer account, I can access only 2 of the restaurant's tips, instead of all 16 tips."
   ]
  },
  {
   "cell_type": "code",
   "execution_count": null,
   "metadata": {},
   "outputs": [],
   "source": []
  },
  {
   "cell_type": "code",
   "execution_count": null,
   "metadata": {},
   "outputs": [],
   "source": []
  },
  {
   "cell_type": "code",
   "execution_count": null,
   "metadata": {},
   "outputs": [],
   "source": []
  }
 ],
 "metadata": {
  "kernelspec": {
   "display_name": "Python 3",
   "language": "python",
   "name": "python3"
  },
  "language_info": {
   "codemirror_mode": {
    "name": "ipython",
    "version": 3
   },
   "file_extension": ".py",
   "mimetype": "text/x-python",
   "name": "python",
   "nbconvert_exporter": "python",
   "pygments_lexer": "ipython3",
   "version": "3.6.5"
  }
 },
 "nbformat": 4,
 "nbformat_minor": 2
}
